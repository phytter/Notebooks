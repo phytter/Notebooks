{
 "metadata": {
  "orig_nbformat": 4,
  "kernelspec": {
   "name": "python3",
   "display_name": "Python 3",
   "language": "python"
  },
  "interpreter": {
   "hash": "31f2aee4e71d21fbe5cf8b01ff0e069b9275f58929596ceb00d14d90e3e16cd6"
  }
 },
 "nbformat": 4,
 "nbformat_minor": 2,
 "cells": [
  {
   "cell_type": "code",
   "execution_count": 9,
   "metadata": {},
   "outputs": [
    {
     "output_type": "stream",
     "name": "stdout",
     "text": [
      "None\n[]\n"
     ]
    }
   ],
   "source": [
    "from urllib.request import urlopen, Request\n",
    "from bs4 import BeautifulSoup\n",
    "from datetime import datetime\n",
    "import json\n",
    "\n",
    "def news_verification():\n",
    "    r = Request('http://nfe.sefaz.go.gov.br/nfeweb/sites/nfce/d/danfeNFCe?p=52210575315333011739655090001533841048579174|2|1|1|245B9BE0A0D141FB14415CC8BF135C52F160BB22', headers={'User-Agent': 'Mozilla/5.0'})\n",
    "    response = urlopen(r).read()\n",
    "    soup = BeautifulSoup(response, \"html.parser\")\n",
    "    table = soup.find( id_ = \"tabResult\")\n",
    "\n",
    "    result = []\n",
    "    base = {}\n",
    "    print(table)\n",
    "    # for bl in table:\n",
    "        # time = bl.find(class_ =\"first left time js-time\").text\n",
    "        # # evento = bl.find(class_ =\"left event\").text\n",
    "        # currency = bl.find(class_ =\"left flagCur noWrap\").text.split(' ')\n",
    "        # intensity = bl.find_all(class_=\"left textNum sentiment noWrap\")\n",
    "        # id_hour = currency[1] + '_' + time\n",
    "         \n",
    "        # if not id_hour in base:\n",
    "        #     base.update({id_hour : {'currency' : currency[1], 'time' : time,'intensity' : { \"1\": 0,\"2\": 0,\"3\": 0} } })\n",
    "        \n",
    "        # intencity = base[id_hour]['intensity']\n",
    "            \n",
    "        # for intence in intensity:\n",
    "        #     _true = intence.find_all(class_=\"grayFullBullishIcon\")\n",
    "        #     _false = intence.find_all(class_=\"grayEmptyBullishIcon\")\n",
    "            \n",
    "        #     if len(_true) == 1:\n",
    "        #         intencity['1'] += 1\n",
    "                \n",
    "        #     elif len(_true) == 2:\n",
    "        #         intencity['2'] += 1\n",
    "                \n",
    "        #     elif len(_true) == 3:\n",
    "        #         intencity['3'] += 1\n",
    "            \n",
    "        # base[id_hour].update({'intensity' : intencity})\n",
    "\n",
    "    # for b in base:\n",
    "    #     result.append(base[b])\n",
    "\n",
    "    return result\n",
    "\n",
    "news = news_verification()\n",
    "\n",
    "print(json.dumps(news, indent=2))"
   ]
  },
  {
   "cell_type": "code",
   "execution_count": null,
   "metadata": {},
   "outputs": [],
   "source": []
  }
 ]
}